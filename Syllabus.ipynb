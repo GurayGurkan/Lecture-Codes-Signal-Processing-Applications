{
 "cells": [
  {
   "cell_type": "markdown",
   "metadata": {},
   "source": [
    "# EE0404 Signal Processing Applications\n",
    "\n",
    "## Syllabus \n",
    "\n",
    "\n",
    "1. Introduction to course and Python usage.\n",
    "\n",
    "2. Discrete Fourier Transform, Part 1: Basis Functions of DFT and mutual projections.\n",
    "\n",
    "3. Discrete Fourier Transform, Part 2: Calculation by projections. fft() command, resolution.\n",
    "\n",
    "4. Time-varying Phase Functions\n",
    "\n",
    "5. Analysis of Time-varying frequency content: Short time Fourier transform\n",
    "\n",
    "6. Above Nyquist rate sampling: Aliasing\n",
    "\n",
    "7. Time domain filters: Single and Multiple Echo filters\n",
    "\n",
    "8. Frequency Domain filters: Effect of zeroes and poles on frequency response\n",
    "\n",
    "9. Frequency Domain filters: Digital FIR filter design using Python \n",
    "\n",
    "10. Frequency Domain filters: Digital IIR filter design using Python\n",
    "\n",
    "11. Mean, variance, histograms. Effects on autocorreleation vector.\n",
    "\n",
    "** Guray GURKAN, PhD **\n",
    "\n",
    "*For questions and suggestions:*\n",
    "\n",
    "$ g.gurkan@iku.edu.tr $\n",
    "\n"
   ]
  },
  {
   "cell_type": "code",
   "execution_count": null,
   "metadata": {
    "collapsed": true
   },
   "outputs": [],
   "source": []
  }
 ],
 "metadata": {
  "kernelspec": {
   "display_name": "Python 2",
   "language": "python",
   "name": "python2"
  },
  "language_info": {
   "codemirror_mode": {
    "name": "ipython",
    "version": 2
   },
   "file_extension": ".py",
   "mimetype": "text/x-python",
   "name": "python",
   "nbconvert_exporter": "python",
   "pygments_lexer": "ipython2",
   "version": "2.7.10"
  }
 },
 "nbformat": 4,
 "nbformat_minor": 0
}
