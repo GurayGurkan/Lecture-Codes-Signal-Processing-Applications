{
 "cells": [
  {
   "cell_type": "markdown",
   "metadata": {},
   "source": [
    "# EE0404 Signal Processing Applications\n",
    "\n",
    "## Syllabus \n",
    "\n",
    "\n",
    "**1.\tIntroduction to course. Sampling Theorem, a practical view **\n",
    "\n",
    "**2.\tDiscrete Fourier Transform: Basis Functions, mutual projections and resolution**\n",
    "\n",
    "**3.\tDiscrete Fourier Transform: Calculation by projections. fft() command**\n",
    "\n",
    "**4.\tInstantaneous Phase, Instantaneous Frequency. Linear Chirp generation.**\n",
    "\n",
    "**5.\tShort time Fourier transform: Windowing**\n",
    "\n",
    "**6.\tNyquist sampling criterion and aliasing**\n",
    "\n",
    "**7.\tTime domain filters: Single and Multiple Echo filters**\n",
    "\n",
    "**8.\tFrequency Domain filters: Effect of zeroes and poles on frequency response**\n",
    "\n",
    "**9.\tFrequency Domain filters: Digital FIR filter design.  fir1() command usage**\n",
    "\n",
    "**10.\tFrequency Domain filters: Digital IIR filter design, s to z domain. butter() command usage.**\n",
    "\n",
    "**11.\tMean, variance, histograms. Effects on autocorreleation vector.**\n",
    "\n"
   ]
  }
 ],
 "metadata": {
  "kernelspec": {
   "display_name": "Python 2",
   "language": "python",
   "name": "python2"
  },
  "language_info": {
   "codemirror_mode": {
    "name": "ipython",
    "version": 2
   },
   "file_extension": ".py",
   "mimetype": "text/x-python",
   "name": "python",
   "nbconvert_exporter": "python",
   "pygments_lexer": "ipython2",
   "version": "2.7.10"
  }
 },
 "nbformat": 4,
 "nbformat_minor": 0
}
