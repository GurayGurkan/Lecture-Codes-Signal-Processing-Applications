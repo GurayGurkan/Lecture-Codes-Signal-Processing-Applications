{
 "cells": [
  {
   "cell_type": "markdown",
   "metadata": {},
   "source": [
    "$$ \\bf{EE0404\\ SIGNAL\\ PROCESSING\\ APPLICATIONS} $$\n",
    "$$ \\ $$\n",
    "$$ $$\n",
    "$$ \\text{Lecture 3} $$\n",
    "\n",
    "$$ \\text{Discrete Fourier Transform, PART 2}\n",
    " $$\n",
    "\n",
    "$$ \\text{ By: Güray GÜRKAN, PhD} $$\n",
    "\n",
    "$$ Aug\\ 2016 $$"
   ]
  },
  {
   "cell_type": "markdown",
   "metadata": {},
   "source": [
    "# Discrete Fourier Transform\n",
    "\n",
    "- Real frequencies of DFT basis functions\n",
    "\n",
    "- DFT of a finite length discrete time signal\n",
    "    - plotting with frequency bins in x-axis\n",
    "    - plotting with real frequencies in x-axis\n",
    "    \n",
    "- Parameters affecting frequency resolution in DFT\n"
   ]
  },
  {
   "cell_type": "code",
   "execution_count": 4,
   "metadata": {
    "collapsed": false
   },
   "outputs": [
    {
     "name": "stdout",
     "output_type": "stream",
     "text": [
      "Populating the interactive namespace from numpy and matplotlib\n"
     ]
    }
   ],
   "source": [
    "%pylab inline\n",
    "from numpy.fft import *\n",
    "from IPython import display\n",
    "\n",
    "def pol2cart(r,theta):\n",
    "    return r*cos(theta), r*sin(theta)\n",
    "\n",
    "thetas = linspace(0,2*np.pi,100)\n",
    "[xx, yy]= pol2cart(1,thetas)\n"
   ]
  },
  {
   "cell_type": "markdown",
   "metadata": {},
   "source": [
    "# DFT Calculation: Example 1\n",
    "\n",
    "We have given a complex sinusoidal signal $$ x(n) = e^{j0.02\\pi n} $$\n",
    "\n",
    "- If $\\bf{M=1000} $, what is the index ($k$) of Fourier basis function on which $ x(n) $ has a non-zero projection?\n",
    "- What is the projection value?\n",
    "- What is the corresponding real frequency of the index if $ \\bf{f_s = 500} $ Hz?\n"
   ]
  },
  {
   "cell_type": "markdown",
   "metadata": {},
   "source": [
    "# DFT Calculation: Example 2\n",
    "$$ x(n) = e^{j0.02\\pi n} $$\n",
    "\n",
    "- Generate 1000 samples.\n",
    "- Calculate DFT using fft() command (from *numpy.fft* module)\n",
    "    - fft_of_x = fft(x)\n",
    "- Is this a complex or real valued vector?\n",
    "- What are the corresponding $k$ values?\n",
    "- What is the non-zero vector index and value?\n",
    "- Plot the norm of this vector versus $k$."
   ]
  },
  {
   "cell_type": "code",
   "execution_count": 5,
   "metadata": {
    "collapsed": false
   },
   "outputs": [
    {
     "data": {
      "image/png": "[encoded data removed]",
      "text/plain": [
       "<matplotlib.figure.Figure at 0x66e7090>"
      ]
     },
     "metadata": {},
     "output_type": "display_data"
    }
   ],
   "source": [
    "# Figure properties\n",
    "rcParams['figure.figsize']=(16,5)\n",
    "rcParams['xtick.labelsize']='large'\n",
    "rcParams['ytick.labelsize']='large'\n",
    "\n",
    "M = 1000\n",
    "n = arange(M)\n",
    "x = exp(1j*0.02*pi*n)\n",
    "k = arange(1000) # for 1000 points of fft\n",
    "fft_of_x = fft(x)\n",
    "\n",
    "axes().set_aspect('equal')\n",
    "\n",
    "subplot(1,2,1)\n",
    "plot(k, abs(fft_of_x))\n",
    "xlabel('k')\n",
    "title('Norm of fft(x)')\n",
    "ylim([-50, 1050]);\n",
    "xlim([-50, 1050]);\n",
    "\n",
    "subplot(1,2,2)\n",
    "stem(k, abs(fft_of_x))\n",
    "xlabel('k')\n",
    "title('Norm of fft(x) (Zoomed)')\n",
    "ylim([-50, 1050]);\n",
    "xlim([-5, 50]);\n"
   ]
  },
  {
   "cell_type": "markdown",
   "metadata": {},
   "source": [
    "# FFT bins ($k$) vs. $u_k(n)$ arguments\n",
    "## _Recall:_\n",
    "_Basis functions has the definition_\n",
    "\n",
    "$$ u_k(n) = e^{j\\Omega_k n},\\ \\ \\ k=\\{0,1,\\dots, M-1\\} $$\n",
    "\n",
    "_where $\\Omega_k$ is the argument of the complex $k^{th}$ basis function. The argument $\\Omega_k$ is defined as_\n",
    "\n",
    "$$\\Omega_k = \\frac{2\\pi}{M} k,\\ \\ \\ k=\\{0,1,\\dots,M-1\\} $$\n",
    "\n",
    "For the bins vector\n",
    "\n",
    "$$ k = [0,1,\\dots,\\frac{M}{2}-1,\\frac{M}{2},\\frac{M}{2}+1,\\dots, M-1] $$\n",
    "\n",
    "the corresponding argument vector is\n",
    "\n",
    "$$ \\Omega = \\frac{2\\pi}{M}[0,1,\\dots,\\frac{M}{2}-1,\\frac{M}{2},\\frac{M}{2}+1,\\dots, M-1] $$\n",
    "\n",
    "$$ \\Omega = [0,\\frac{2\\pi}{M},\\dots,\\pi-\\frac{2\\pi}{M},\\pi,\\pi+\\frac{2\\pi}{M},\\dots, 2\\pi-\\frac{2\\pi}{M}] $$\n",
    "\n"
   ]
  },
  {
   "cell_type": "code",
   "execution_count": 6,
   "metadata": {
    "collapsed": false
   },
   "outputs": [
    {
     "data": {
      "image/png": "TGVjM19maWcxLnBuZw==\n",
      "text/plain": [
       "<IPython.core.display.Image object>"
      ]
     },
     "execution_count": 6,
     "metadata": {
      "image/png": {
       "height": 500,
       "width": 500
      }
     },
     "output_type": "execute_result"
    }
   ],
   "source": [
    "display.Image('Lec3_fig1.png',width=500,height=500)"
   ]
  },
  {
   "cell_type": "markdown",
   "metadata": {},
   "source": [
    "$$ \\Omega = [0,\\frac{2\\pi}{M},\\dots,\\pi-\\frac{2\\pi}{M},\\pi, -(\\pi-\\frac{2\\pi}{M}),\\dots, -\\frac{2\\pi}{M}] $$\n",
    "\n",
    "$$ \\hat{k} = [0,1,\\dots,\\frac{M}{2}-1,\\frac{M}{2},-(\\frac{M}{2}-1),\\dots, -1]$$\n",
    "\n",
    "Thus, via $M$ points of DFT calculation, we require M basis functions of which arguments are located around unit circle with intervals of $ \\frac{2\\pi}{M} $ and with highest argument $\\pi$."
   ]
  },
  {
   "cell_type": "markdown",
   "metadata": {},
   "source": [
    "# Example 3\n",
    "For M=10 points of DFT calculation, the $k$ values are\n",
    "$$ k =[0,1,2,3,4,5,6,7,8,9] $$\n",
    "\n",
    "and the arguments\n",
    "\n",
    "$$ \\Omega = [0,\\frac {2\\pi}{10},\\frac {4\\pi}{10},\\frac {6\\pi}{10},\\frac {8\\pi}{10},\\frac {10\\pi}{10},\\frac {12\\pi}{10},\\frac {14\\pi}{10},\\frac {16\\pi}{10},\\frac {18\\pi}{10}] $$\n",
    "\n",
    "$$ \\Omega = [0,\\frac {2\\pi}{10},\\frac {4\\pi}{10},\\frac {6\\pi}{10},\\frac {8\\pi}{10},\\pi,-\\frac {8\\pi}{10},-\\frac{6\\pi}{10},-\\frac {4\\pi}{10},-\\frac {2\\pi}{10}] $$\n",
    "\n",
    "Thus, frequency bins can also be written in the form:\n",
    "\n",
    "$$ \\hat{k} =[0,1,2,3,4,5,-4,-3,-2,-1] $$\n",
    "\n",
    "$ \\hat{k} $ can be generated by the command:"
   ]
  },
  {
   "cell_type": "code",
   "execution_count": 7,
   "metadata": {
    "collapsed": false
   },
   "outputs": [
    {
     "name": "stdout",
     "output_type": "stream",
     "text": [
      "k =  [ 0  1  2  3  4  5 -4 -3 -2 -1]\n"
     ]
    }
   ],
   "source": [
    "M = 10 \n",
    "k = hstack((arange(M/2+1),arange(-M/2+1,0)))\n",
    "print \"k = \", k"
   ]
  },
  {
   "cell_type": "markdown",
   "metadata": {},
   "source": [
    "Thus, the basis functions are\n",
    "\n",
    "$$ u_k(n) = [ 1,e^{j\\frac {2\\pi}{10}n},e^{j \\frac{4\\pi}{10}n},e^{j\\frac {6\\pi}{10}n},e^{j\\frac {8\\pi}{10}n},e^{j\\pi n},e^{-j\\frac {8\\pi}{10}n},e^{-j\\frac{6\\pi}{10}n},e^{-j\\frac {4\\pi}{10}n},e^{-j\\frac {2\\pi}{10}n}] $$"
   ]
  },
  {
   "cell_type": "markdown",
   "metadata": {},
   "source": [
    "# Example  2 revisited:\n",
    "\n",
    "- The DFT plot can also be plotted respect to latter defined form of frequency bins as follows:"
   ]
  },
  {
   "cell_type": "code",
   "execution_count": 8,
   "metadata": {
    "collapsed": false
   },
   "outputs": [
    {
     "data": {
      "text/plain": [
       "(-50, 50)"
      ]
     },
     "execution_count": 8,
     "metadata": {},
     "output_type": "execute_result"
    },
    {
     "data": {
      "image/png": "[encoded data removed]",
      "text/plain": [
       "<matplotlib.figure.Figure at 0x65b6c30>"
      ]
     },
     "metadata": {},
     "output_type": "display_data"
    }
   ],
   "source": [
    "M = 1000;\n",
    "khat = hstack((arange(M/2+1),arange(-M/2+1,0)))\n",
    "subplot(1,2,1)\n",
    "plot(khat, abs(fft_of_x))\n",
    "xlabel('k')\n",
    "title('Norm of fft(x)')\n",
    "ylim([-50, 1050]);\n",
    "\n",
    "subplot(1,2,2)\n",
    "plot(khat, abs(fft_of_x))\n",
    "xlabel('k')\n",
    "title('Norm of fft(x)')\n",
    "ylim([-50, 1050]);\n",
    "xlim([-50,50])"
   ]
  },
  {
   "cell_type": "markdown",
   "metadata": {},
   "source": [
    "# FFT bins ($k$) vs. real frequencies"
   ]
  },
  {
   "cell_type": "markdown",
   "metadata": {},
   "source": [
    "\n",
    "\n",
    "## Recall:\n",
    "*The sampled form of a sinusoidal function with (real world) frequency $f_r$ is given by*\n",
    "\n",
    "$$ x(n)  = sin(2\\pi f_r \\frac{n}{f_s})= sin(\\Omega n) $$ \n",
    "\n",
    "*Thus, the normalized angular frequency $\\Omega$ of a discrete time sinusoidal signal is*\n",
    "\n",
    "$$ \\Omega = 2\\pi \\frac{f_r}{f_s} $$\n",
    "\n",
    "*Recall that the $ k^{th}$ basis function of an M point DFT calculation has the normalized angular frequency*\n",
    "\n",
    "$$ \\Omega_k = \\frac{2\\pi}{M} k $$\n",
    "\n",
    "*Thus the real frequency of the $ k^{th}$ basis function of an M point DFT calculation can be found by:*\n",
    "\n",
    "$$ \\Omega = 2\\pi \\frac{f_r}{f_s} = \\frac{2\\pi}{M} k $$\n",
    "\n",
    "$$ \\frac{f_r^{(k)}}{f_s} = \\frac{k}{M} $$\n",
    "\n",
    "$$ f_r^{(k)} = k \\frac{f_s}{M} $$\n",
    "\n"
   ]
  },
  {
   "cell_type": "markdown",
   "metadata": {},
   "source": [
    "# Example 4\n",
    "\n",
    "Determine the real frequencies of a DFT calculation if 1000 samples are observed and $ f_s$ = 200 Hz\n",
    "\n",
    "** Solution:**\n",
    "\n",
    "We have $M$=1000 and $f_s$ =200 Hz. So:\n",
    "\n",
    "$$ f_r = [0, \\frac{200}{1000}, 2\\frac{200}{1000},\\dots,499\\frac{200}{1000},500\\frac{200}{1000},-499\\frac{200}{1000},\\dots,- \\frac{200}{1000}] \\ Hz  $$ \n",
    "\n",
    "$$ f_r = [0, 0.2, 0.4,\\dots,99.8,100,-99.8,\\dots,-0.2] \\ Hz $$"
   ]
  },
  {
   "cell_type": "markdown",
   "metadata": {},
   "source": [
    "# Example 5\n",
    "\n",
    "$$ x(n) = e^{j0.02\\pi n} $$\n",
    "- Generate 1000 samples.\n",
    "- Calculate DFT using fft() command,\n",
    "    - fft_of_x = fft(x)\n",
    "- Plot the norm of this vector versus real frequencies if $f_s$=200 Hz."
   ]
  },
  {
   "cell_type": "code",
   "execution_count": 9,
   "metadata": {
    "collapsed": false
   },
   "outputs": [
    {
     "data": {
      "image/png": "[encoded data removed]",
      "text/plain": [
       "<matplotlib.figure.Figure at 0x9b18df0>"
      ]
     },
     "metadata": {},
     "output_type": "display_data"
    }
   ],
   "source": [
    "rcParams['figure.figsize']=(16,5)\n",
    "rcParams['xtick.labelsize']='large'\n",
    "rcParams['ytick.labelsize']='large'\n",
    "\n",
    "M = 1000\n",
    "fs = 200.0\n",
    "n = arange(M)\n",
    "x = exp(1j*0.02*pi*n)\n",
    "k = hstack((arange(M/2+1),arange(-M/2+1,0)))\n",
    "fft_of_x = fft(x)\n",
    "axes().set_aspect('equal')\n",
    "subplot(1,2,1)\n",
    "fr = k*fs/M\n",
    "plot(k, abs(fft_of_x))\n",
    "xlabel('Frequency (Hz)')\n",
    "title('Norm of fft(x)')\n",
    "ylim([-50, 1050]);\n",
    "\n",
    "subplot(1,2,2)\n",
    "stem(k*fs/M, abs(fft_of_x))\n",
    "xlabel('Frequency (Hz)')\n",
    "title('Norm of fft(x) (Zoomed)')\n",
    "ylim([-50, 1050]);\n",
    "xlim([-5, 5]);"
   ]
  },
  {
   "cell_type": "markdown",
   "metadata": {},
   "source": [
    "# Example 6\n",
    "We are given a signal \n",
    "\n",
    "$$ x(n) = sin(0.4\\pi n )$$\n",
    "\n",
    "- What is the Euler form of this signal?\n",
    "- What are the non-zero bins of  DFT for $M$=500?\n",
    "\n",
    "- Generate the basis functions for these bins and calculate (complex) projections.\n",
    "- Verify the result using fft() command output.\n"
   ]
  },
  {
   "cell_type": "markdown",
   "metadata": {},
   "source": [
    "## Solution\n",
    "\n",
    "- Euler form can be written as\n",
    "\n",
    "$$ x(n) = \\frac{e^{(j0.4\\pi n)}-e^{(-j0.4\\pi n)}}{2j}  $$\n",
    "\n",
    "- For M=500, we have to find $k$ values such that the arguments are equal to $ \\pm 0.4\\pi $\n",
    "\n",
    "$$ \\Omega _k =\\pm 0.4\\pi= \\frac {2\\pi}{M} k = \\frac {2\\pi}{500} k  $$\n",
    "    \n",
    "$$ k = \\pm 100 $$\n",
    "    \n",
    "- The basis functions are $u_{\\pm 100}(n) $. Projection on $ u_{100}(n)$ can be calculated by:\n",
    "\n",
    "    $$pr_1 = \\sum\\limits_{n=0}^{M-1}x(n) u_{100}(n)^* $$\n",
    "    \n",
    "    $$pr_2 = \\sum\\limits_{n=0}^{M-1}x(n) u_{-100}(n)^* $$"
   ]
  },
  {
   "cell_type": "code",
   "execution_count": 10,
   "metadata": {
    "collapsed": false
   },
   "outputs": [
    {
     "name": "stdout",
     "output_type": "stream",
     "text": [
      "Projection 1:  (-1.79412040779e-13+250j)\n",
      "Magnitude of Projection 1:  250.0\n",
      "Argument of Projection 1:  90.0 degrees\n",
      " \n",
      "Projection 2:  (-1.79412040779e-13-250j)\n",
      "Magnitude of Projection 2:  250.0\n",
      "Argument of Projection 2:  -90.0 degrees\n"
     ]
    }
   ],
   "source": [
    "M=500\n",
    "n=arange(M)\n",
    "x= sin(0.4*pi*n)\n",
    "\n",
    "pr1 = sum(x*exp(1j*0.4*pi*n))\n",
    "print 'Projection 1: ',pr1\n",
    "print 'Magnitude of Projection 1: ', abs(pr1)\n",
    "print 'Argument of Projection 1: ', angle(pr1)*180/pi, 'degrees'\n",
    "\n",
    "pr2 = sum(x*exp(-1j*0.4*pi*n))\n",
    "print ' '\n",
    "print 'Projection 2: ',pr2\n",
    "print 'Magnitude of Projection 2: ', abs(pr2)\n",
    "print 'Argument of Projection 2: ', angle(pr2)*180/pi, 'degrees'"
   ]
  },
  {
   "cell_type": "markdown",
   "metadata": {},
   "source": [
    "- To verify the result, we plot the magnitude of fft() output."
   ]
  },
  {
   "cell_type": "code",
   "execution_count": 11,
   "metadata": {
    "collapsed": false
   },
   "outputs": [
    {
     "data": {
      "image/png": "[encoded data removed]",
      "text/plain": [
       "<matplotlib.figure.Figure at 0x65b6570>"
      ]
     },
     "metadata": {},
     "output_type": "display_data"
    }
   ],
   "source": [
    "fft_of_x = fft(x)\n",
    "k = hstack((arange(M/2+1),arange(-M/2+1,0)))\n",
    "stem(k,abs(fft_of_x))\n",
    "grid()\n",
    "xlabel('k');\n",
    "xlim([-255, 255]);\n",
    "title('Magnitude of fft(x)');"
   ]
  },
  {
   "cell_type": "markdown",
   "metadata": {},
   "source": [
    "# Example 7\n",
    "\n",
    "We have given a signal \n",
    "$$ x(n) = sin(0.25\\pi n ) + cos(0.1\\pi n ) + 0.5 $$\n",
    "- What are the real frequencies of the components of the signal if $f_s$ = 2000 Hz?\n",
    "- What are the non-zero bins of  DFT for M=1000?\n",
    "- Proof items 1 and 2 via fft() command. "
   ]
  },
  {
   "cell_type": "markdown",
   "metadata": {},
   "source": [
    "## Solution\n",
    "\n",
    "- The first (sin.) component has $ \\Omega_1 = 0.25 \\pi $ wheras the second (cos.) component has  $ \\Omega_2 = 0.1 \\pi $ and third has $\\Omega_3 = 0 $. Thus\n",
    "\n",
    "$$ \\Omega_1 = 2\\pi \\frac {(f_r)_1}{f_s} \\rightarrow (f_r)_1 = f_s \\frac {\\Omega_1}{2\\pi}  = 2000 \\frac{0.25\\pi}{2\\pi}= 250\\ Hz$$ \n",
    "$$ \\Omega_2 = 2\\pi \\frac {(f_r)_2}{f_s} \\rightarrow (f_r)_2 = f_s \\frac {\\Omega_2}{2\\pi}  = 2000 \\frac{0.1\\pi}{2\\pi}= 100\\ Hz$$\n",
    "\n",
    "- To find non-zero bins ($k$ values ), recall that $ u_k(n) = e^{j\\frac{2\\pi}{M}kn} $ has $\\Omega_k = \\frac{2\\pi}{M}k $. So if \n",
    "$\\Omega_k = \\pm \\Omega_1 $, $\\Omega_k = \\pm  \\Omega_2 $ and $\\Omega_k = 0 $,  we have non-zero projections. Thus\n",
    "\n",
    "$$ \\frac{2\\pi}{1000}k_{11} = 0.25 \\pi \\rightarrow k_{11} = 125 $$\n",
    "$$ \\frac{2\\pi}{1000}k_{12} = (2 - 0.25) \\pi \\rightarrow k_{12} = 875 =  -125 $$\n",
    "\n",
    "$$ \\frac{2\\pi}{1000}k_{21} = 0.1 \\pi \\rightarrow k_{21} = 50 $$\n",
    "$$ \\frac{2\\pi}{1000}k_{22} = (2 - 0.1) \\pi \\rightarrow k_{22} = 950 = -50 $$\n",
    "$$ k_3 = 0 $$\n",
    "\n",
    "Thus, non-zero bins are 0, $\\pm$ 50 and $\\pm$ 125."
   ]
  },
  {
   "cell_type": "markdown",
   "metadata": {},
   "source": [
    "- To verify via fft command:"
   ]
  },
  {
   "cell_type": "code",
   "execution_count": 12,
   "metadata": {
    "collapsed": false
   },
   "outputs": [
    {
     "data": {
      "text/plain": [
       "<matplotlib.text.Text at 0x93546f0>"
      ]
     },
     "execution_count": 12,
     "metadata": {},
     "output_type": "execute_result"
    },
    {
     "data": {
      "image/png": "[encoded data removed]",
      "text/plain": [
       "<matplotlib.figure.Figure at 0x6704dd0>"
      ]
     },
     "metadata": {},
     "output_type": "display_data"
    }
   ],
   "source": [
    "M=1000\n",
    "n=arange(M)\n",
    "fs = 2000.0 \n",
    "x= sin(0.25*pi*n) + cos(0.1*pi*n) + .5\n",
    "t= n/fs\n",
    "plot(t,x)\n",
    "xlim([0,0.05])\n",
    "ylim([-3,3])\n",
    "xlabel('Time (seconds)')"
   ]
  },
  {
   "cell_type": "code",
   "execution_count": 13,
   "metadata": {
    "collapsed": false
   },
   "outputs": [
    {
     "data": {
      "image/png": "[encoded data removed]",
      "text/plain": [
       "<matplotlib.figure.Figure at 0x9a024d0>"
      ]
     },
     "metadata": {},
     "output_type": "display_data"
    }
   ],
   "source": [
    "fft_of_x = fft(x)\n",
    "k = hstack((arange(M/2+1),arange(-M/2+1,0)))\n",
    "stem(k,abs(fft_of_x))\n",
    "grid()\n",
    "xlabel('k');"
   ]
  },
  {
   "cell_type": "code",
   "execution_count": 14,
   "metadata": {
    "collapsed": false
   },
   "outputs": [
    {
     "data": {
      "text/plain": [
       "<matplotlib.text.Text at 0x8cb2050>"
      ]
     },
     "execution_count": 14,
     "metadata": {},
     "output_type": "execute_result"
    },
    {
     "data": {
      "image/png": "[encoded data removed]",
      "text/plain": [
       "<matplotlib.figure.Figure at 0x9fee930>"
      ]
     },
     "metadata": {},
     "output_type": "display_data"
    }
   ],
   "source": [
    "stem(k,abs(fft_of_x))\n",
    "grid()\n",
    "xlabel('k');\n",
    "xlim([-150, 150])\n",
    "hold()\n",
    "text(130,500,'$k_2$')\n",
    "text(40,500,'$k_1$')\n",
    "text(1,500,'$k_3$')"
   ]
  },
  {
   "cell_type": "code",
   "execution_count": 15,
   "metadata": {
    "collapsed": false
   },
   "outputs": [
    {
     "data": {
      "text/plain": [
       "(-300, 300)"
      ]
     },
     "execution_count": 15,
     "metadata": {},
     "output_type": "execute_result"
    },
    {
     "data": {
      "image/png": "[encoded data removed]",
      "text/plain": [
       "<matplotlib.figure.Figure at 0x9feeb30>"
      ]
     },
     "metadata": {},
     "output_type": "display_data"
    }
   ],
   "source": [
    "fr = k*fs/M\n",
    "stem(fr,abs(fft_of_x))\n",
    "grid()\n",
    "xlabel('Frequency (Hz)');\n",
    "xlim([-300, 300])"
   ]
  },
  {
   "cell_type": "markdown",
   "metadata": {},
   "source": [
    "# Resolution\n",
    "\n",
    "Since $k$ can have only integer values, the real frequencies are seperated by\n",
    "\n",
    "$$ \\Delta f_r^{(k)} = \\Delta k \\frac{f_s}{M} = \\frac{f_s}{M} $$\n",
    "\n",
    "The final equation tells us that, if a high resolution is required for analysis, the number of samples (observed) should be increased. "
   ]
  },
  {
   "cell_type": "markdown",
   "metadata": {
    "collapsed": true
   },
   "source": [
    "## Example\n",
    "\n",
    "- A continuous time signal $x(t)$ \n",
    "    $$ x(t) = sin(20\\pi t) + sin(21\\pi t) $$\n",
    "    will be sampled at $f_s$= 1 kHz.\n",
    "    - What are the real frequency of sin. components?\n",
    "    - What is the minimum number of samples required if DFT operation is desired to reveal these frequencies as successive peaks?\n",
    "    "
   ]
  },
  {
   "cell_type": "markdown",
   "metadata": {},
   "source": [
    "** Solution **\n",
    "\n",
    "- Writing $x(t)$ as \n",
    "$$ x(t) = sin(2\\pi 10 t) + sin(2\\pi 10.5 t) $$ \n",
    "\n",
    "the real frequencies of the components can be seen to be 10 and 10.5 Hz, respectively. Thus, the DFT operation is required to distinguish frequency intervals of at least 0.5 Hz. By applying the formula:\n",
    "\n",
    "$$ \\Delta f_r^{(k)} = \\frac{f_s}{M} $$\n",
    "\n",
    "$$ 0.5 = \\frac{1000}{M} \\rightarrow M=2000$$\n",
    "\n",
    "Thus, 2000 samples are required for adjugate resolution."
   ]
  },
  {
   "cell_type": "code",
   "execution_count": 26,
   "metadata": {
    "collapsed": false
   },
   "outputs": [
    {
     "data": {
      "text/plain": [
       "(0, 1)"
      ]
     },
     "execution_count": 26,
     "metadata": {},
     "output_type": "execute_result"
    },
    {
     "data": {
      "image/png": "[encoded data removed]",
      "text/plain": [
       "<matplotlib.figure.Figure at 0xb68f450>"
      ]
     },
     "metadata": {},
     "output_type": "display_data"
    }
   ],
   "source": [
    "## Proof\n",
    "\n",
    "fs = 1000.0\n",
    "# case 1: poor resolution\n",
    "M1 = 1000\n",
    "n = arange(M1)\n",
    "x = sin(20*pi*n/fs) + sin(21*pi*n/fs) \n",
    "k = hstack((arange(M1/2+1),arange(-M1/2 +1,0)))\n",
    "fr = k*fs/M1\n",
    "stem(fr,abs(fft(x))/M1)\n",
    "xlim([-15,15])\n",
    "xlabel('Frequency (Hz)')\n",
    "ylim([0,1])"
   ]
  },
  {
   "cell_type": "code",
   "execution_count": 27,
   "metadata": {
    "collapsed": false
   },
   "outputs": [
    {
     "data": {
      "text/plain": [
       "(0, 1)"
      ]
     },
     "execution_count": 27,
     "metadata": {},
     "output_type": "execute_result"
    },
    {
     "data": {
      "image/png": "[encoded data removed]",
      "text/plain": [
       "<matplotlib.figure.Figure at 0x9e964b0>"
      ]
     },
     "metadata": {},
     "output_type": "display_data"
    }
   ],
   "source": [
    "# case 2: adj. resolution\n",
    "M1 = 2000\n",
    "n = arange(M1)\n",
    "x = sin(20*pi*n/fs) + sin(21*pi*n/fs) \n",
    "k = hstack((arange(M1/2+1),arange(-M1/2 +1,0)))\n",
    "fr = k*fs/M1\n",
    "stem(fr,abs(fft(x))/M1)\n",
    "xlim([-15,15])\n",
    "xlabel('Frequency (Hz)')\n",
    "ylim([0,1])"
   ]
  },
  {
   "cell_type": "code",
   "execution_count": null,
   "metadata": {
    "collapsed": true
   },
   "outputs": [],
   "source": []
  }
 ],
 "metadata": {
  "kernelspec": {
   "display_name": "Python 2",
   "language": "python",
   "name": "python2"
  },
  "language_info": {
   "codemirror_mode": {
    "name": "ipython",
    "version": 2
   },
   "file_extension": ".py",
   "mimetype": "text/x-python",
   "name": "python",
   "nbconvert_exporter": "python",
   "pygments_lexer": "ipython2",
   "version": "2.7.10"
  }
 },
 "nbformat": 4,
 "nbformat_minor": 0
}
