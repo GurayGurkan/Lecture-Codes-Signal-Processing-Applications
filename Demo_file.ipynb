{
 "cells": [
  {
   "cell_type": "code",
   "execution_count": 1,
   "metadata": {
    "collapsed": false,
    "scrolled": true
   },
   "outputs": [
    {
     "name": "stdout",
     "output_type": "stream",
     "text": [
      "this is the last sentence in this cell\n"
     ]
    }
   ],
   "source": [
    "# In Ipython notebooks, there exist two main parts (or cells)\n",
    "# 1) Code Cells\n",
    "# 2) Markdown (text) cells\n",
    "\n",
    "# Current cell is a code cell, that's why we use \"#\" to state that we are writing comments, not commands.\n",
    "\n",
    "# you can add/delete/move and \"change the type\" of a cell using menu buttons.\n",
    "\n",
    "\n",
    "print \"this is the last sentence in this cell\""
   ]
  },
  {
   "cell_type": "markdown",
   "metadata": {},
   "source": [
    "# A single hashtag will create a title\n",
    "\n",
    "Normal text looks like this.\n",
    "\n",
    "## Double hashtag creates a 2nd level title\n",
    "\n",
    "In addition to normal text you can also write in **bold** and * italic *.\n",
    "\n",
    "### Triple hashtag creates a 3rd level title\n",
    "\n",
    "To create bullets:\n",
    "\n",
    "- Simply use '-' and a space after starting a new line.\n",
    "- This is bullet line 2\n"
   ]
  },
  {
   "cell_type": "code",
   "execution_count": 2,
   "metadata": {
    "collapsed": true
   },
   "outputs": [],
   "source": [
    "# from numpy import *\n",
    "# from matplotlib import *\n",
    "# from matplotlib.pyplot import *"
   ]
  },
  {
   "cell_type": "markdown",
   "metadata": {},
   "source": [
    "So previous cell is a code cell and we imported three main modules. We can use them in following code cells. However, there is a simpler way to do this.."
   ]
  },
  {
   "cell_type": "code",
   "execution_count": 3,
   "metadata": {
    "collapsed": false
   },
   "outputs": [
    {
     "name": "stdout",
     "output_type": "stream",
     "text": [
      "Populating the interactive namespace from numpy and matplotlib\n"
     ]
    }
   ],
   "source": [
    "%pylab inline"
   ]
  },
  {
   "cell_type": "code",
   "execution_count": 4,
   "metadata": {
    "collapsed": true
   },
   "outputs": [],
   "source": [
    "def timevector(Npoints, samplerate):\n",
    "    return arange(Npoints)/float(samplerate)"
   ]
  },
  {
   "cell_type": "markdown",
   "metadata": {},
   "source": [
    "In the above code cell, we defined a function named *timevector()* that generates *N* time elements of a discrete time system with sampling rate *samplingrate* Hz."
   ]
  },
  {
   "cell_type": "code",
   "execution_count": 6,
   "metadata": {
    "collapsed": false
   },
   "outputs": [
    {
     "data": {
      "text/plain": [
       "[<matplotlib.lines.Line2D at 0x626d290>]"
      ]
     },
     "execution_count": 6,
     "metadata": {},
     "output_type": "execute_result"
    },
    {
     "data": {
      "image/png": "[encoded data removed]",
      "text/plain": [
       "<matplotlib.figure.Figure at 0x6116150>"
      ]
     },
     "metadata": {},
     "output_type": "display_data"
    }
   ],
   "source": [
    "fs = 2000.0\n",
    "t = timevector(2*fs, fs)\n",
    "plot(t,sin(2*pi*4*t))"
   ]
  },
  {
   "cell_type": "markdown",
   "metadata": {},
   "source": [
    "# Using Latex for formulas\n",
    "\n",
    "Another big advantage of Ipython notebook is that it allows Latex language, which improves visual and edittable comfort for equation editing.\n",
    "\n",
    "By using \"a single dollar\" symbol, you can start an inline equation, whereas \"double dollar\" starts a full-line equation.\n",
    "\n",
    "As an example, the perimeter of a circle can be written as $ 2\\pi R $ or \n",
    "$$ P = 2 \\pi R $$\n",
    "\n",
    "2 over 4 is $ \\frac{2}{4} $\n",
    "\n",
    "Summation can be written as $ \\sum_{i=0}^{i=N} x(n) $"
   ]
  },
  {
   "cell_type": "code",
   "execution_count": null,
   "metadata": {
    "collapsed": true
   },
   "outputs": [],
   "source": []
  }
 ],
 "metadata": {
  "kernelspec": {
   "display_name": "Python 2",
   "language": "python",
   "name": "python2"
  },
  "language_info": {
   "codemirror_mode": {
    "name": "ipython",
    "version": 2
   },
   "file_extension": ".py",
   "mimetype": "text/x-python",
   "name": "python",
   "nbconvert_exporter": "python",
   "pygments_lexer": "ipython2",
   "version": "2.7.10"
  }
 },
 "nbformat": 4,
 "nbformat_minor": 0
}
