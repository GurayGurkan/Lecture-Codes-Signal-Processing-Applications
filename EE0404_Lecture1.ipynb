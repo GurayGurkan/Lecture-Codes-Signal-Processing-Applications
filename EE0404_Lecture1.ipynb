{
 "cells": [
  {
   "cell_type": "markdown",
   "metadata": {
    "slideshow": {
     "slide_type": "slide"
    }
   },
   "source": [
    "$$ \\text{EE0404 SIGNAL PROCESSING APPLICATIONS} $$\n",
    "$$ \\ $$\n",
    "$$ $$\n",
    "$$ \\text{Lecture Notes} $$\n",
    "\n",
    "$$ \\text{Introduction}$$\n",
    "\n",
    "$$ \\text{July 2016} $$"
   ]
  },
  {
   "cell_type": "markdown",
   "metadata": {
    "slideshow": {
     "slide_type": "slide"
    }
   },
   "source": [
    "\n",
    "# Objectives\n",
    "\n",
    " - The effect of sampling rate\n",
    " - Plot and interpret waveforms using Python\n",
    " - Learn and use Python for:\n",
    "     - Signal generation, plotting\n",
    "     - Decimation & Interpolation: effects in time and frequency domains\n",
    "     - Spectral (FFT) analysis, Short-time FFT analysis\n",
    "     - Echo generation (Single, multiple)\n",
    "     - Digital filtering (Lowpass, Highpass, Bandpass Filtering)\n"
   ]
  },
  {
   "cell_type": "markdown",
   "metadata": {
    "slideshow": {
     "slide_type": "slide"
    }
   },
   "source": [
    "# Course Syllabus\n",
    "\n",
    "1.\tIntroduction to course. Sampling Theorem, a practical view \n",
    "2.\tDiscrete Fourier Transform: Basis Functions, mutual projections and frequency resolution\n",
    "3.\tDiscrete Fourier Transform: Calculation of FFT coefficients by projection. \n",
    "4.\tInstantaneous Phase, Instantaneous Frequency. Linear Chirp generation.\n",
    "5.\tShort time Fourier transform: Windowing and operation through matrix columns\n",
    "6.\tNyquist sampling criterion and aliasing.\n",
    "7.\tTime domain filters: Single and multiple echo filtering\n",
    "8.\tFrequency Domain filters: Effect of zeroes and poles on frequency response\n",
    "9.\tFrequency Domain filters: Digital FIR filter design. \n",
    "10.\tFrequency Domain filters: Digital IIR filter design, s to z domain.\n"
   ]
  },
  {
   "cell_type": "markdown",
   "metadata": {
    "slideshow": {
     "slide_type": "slide"
    }
   },
   "source": [
    "# Grading\n",
    "- Homeworks x 10: (% 0  ??)\n",
    "\n",
    "- Midterm x 2 : (% 60)\n",
    "\n",
    "- Final Exam: (% 40)\n",
    "\n",
    "- Exams will be held on CATS system\n"
   ]
  },
  {
   "cell_type": "markdown",
   "metadata": {
    "slideshow": {
     "slide_type": "fragment"
    }
   },
   "source": [
    "# Tool Usage: Python\n",
    "- Using Python Functions\n",
    "- Sin, cos, ones, zeros\n",
    "- Summation, multiplication\n",
    "- Plotting and axis labeling, titles.\n",
    "- Windowing, \n",
    "- FFT  \n",
    "- Error finding and correction on self studies.\n"
   ]
  },
  {
   "cell_type": "markdown",
   "metadata": {
    "collapsed": true,
    "slideshow": {
     "slide_type": "slide"
    }
   },
   "source": [
    "$$ \\bf{LECTURE\\ 1:} $$\n",
    "\n",
    "\n",
    "\n",
    "\n",
    "## Sampling theorem\n",
    "\n",
    "- What is sampling?\n",
    "- Amplitude: Quantization\n",
    "    - Number of bits for quantization\n",
    "    - Recall from: EE5203 Microprocessors\n",
    "    - Dynamic range, signal conditioning\n",
    "    - Time: Sampling period (or frequency)\n",
    "\n",
    "\n"
   ]
  },
  {
   "cell_type": "code",
   "execution_count": 1,
   "metadata": {
    "collapsed": false,
    "slideshow": {
     "slide_type": "-"
    }
   },
   "outputs": [
    {
     "name": "stdout",
     "output_type": "stream",
     "text": [
      "Populating the interactive namespace from numpy and matplotlib\n"
     ]
    },
    {
     "data": {
      "text/plain": [
       "(0, 6)"
      ]
     },
     "execution_count": 1,
     "metadata": {},
     "output_type": "execute_result"
    },
    {
     "data": {
      "image/png": "[encoded data removed]",
      "text/plain": [
       "<matplotlib.figure.Figure at 0x6f4cbd0>"
      ]
     },
     "metadata": {},
     "output_type": "display_data"
    }
   ],
   "source": [
    "%pylab inline\n",
    "import pandoc \n",
    "rcParams['figure.figsize']=(8,6)\n",
    "rcParams['xtick.labelsize']='large'\n",
    "rcParams['ytick.labelsize']='large'\n",
    "\n",
    "n = arange(50)\n",
    "fs = 50.0\n",
    "t = n/fs\n",
    "x = 2*sin(2*np.pi*2*t) + 3\n",
    "p1= plot(t,x)\n",
    "xlabel('Time (seconds)')\n",
    "grid()\n",
    "title('x(t)')\n",
    "ylim([0,6])\n"
   ]
  },
  {
   "cell_type": "markdown",
   "metadata": {
    "collapsed": true,
    "slideshow": {
     "slide_type": "fragment"
    }
   },
   "source": [
    "# Question:\n",
    "Refering the continuous time signal given above:\n",
    "- What is the period?\n",
    "- What is the average value?\n",
    "- What is the peak-to-peak ($ \\bf{V_{p-p}} $)  and peak ($ \\bf{V_p} $) values?\n",
    "\n",
    "## Answer:\n",
    "- Full cycle lasts for 0.5 seconds, so $\\bf{T} = 0.5 $ seconds\n",
    "- The sinusoidal signal deviates around 3 (rather than 0) the average value is 3. This is also called the DC offset.\n",
    "- Peak-to-peak value is the difference between maximum and minimum values of the signal. So $ \\bf{V_{p-p}} = 5-1 = 4 $ V and thus $ \\bf{V_p}=2 $ V.\n",
    "\n",
    "## Writing the signal equation:\n",
    "General form of a sinusoidal signal with a peak value of $ \\bf{V_p} $, a frequency of $ \\bf{f} $ and an offset value of $ \\bf{O} $ is given by\n",
    "$$ x(t) = V_p sin(2\\pi ft) + o $$\n",
    "Thus, \n",
    "$$ x(t) = 2sin(2\\pi 2t) + 3 $$\n",
    "$$ x(t) = 2sin(4\\pi t) + 3 $$\n",
    " "
   ]
  },
  {
   "cell_type": "code",
   "execution_count": 7,
   "metadata": {
    "collapsed": false,
    "slideshow": {
     "slide_type": "slide"
    }
   },
   "outputs": [
    {
     "data": {
      "text/plain": [
       "(0.5, 5.5)"
      ]
     },
     "execution_count": 7,
     "metadata": {},
     "output_type": "execute_result"
    },
    {
     "data": {
      "image/png": "[encoded data removed]",
      "text/plain": [
       "<matplotlib.figure.Figure at 0x6d2b2d0>"
      ]
     },
     "metadata": {},
     "output_type": "display_data"
    }
   ],
   "source": [
    "\n",
    "rcParams['figure.figsize']=(12,8)\n",
    "rcParams['xtick.labelsize']='large'\n",
    "rcParams['ytick.labelsize']='large'\n",
    "rcParams['axes.titlesize']=14\n",
    "\n",
    "n = arange(25)\n",
    "fs = 50.0\n",
    "t = n/fs\n",
    "x = 2*sin(2*np.pi*2*t) + 3\n",
    "p1= plot(t,x,'o')\n",
    "hold(True)\n",
    "p2 = plot(t,x,'--r')\n",
    "xlabel('Time (seconds)')\n",
    "grid()\n",
    "title('x(t)')\n",
    "ylim([0.5,5.5])\n"
   ]
  },
  {
   "cell_type": "markdown",
   "metadata": {
    "collapsed": true,
    "slideshow": {
     "slide_type": "slide"
    }
   },
   "source": [
    "# Sampling Frequency\n",
    "- Engineering Units: Samples per second\n",
    "- Symbol: $ \\bf{f_s} $\n",
    "- Describes the number of samples acquired in a second.\n"
   ]
  },
  {
   "cell_type": "markdown",
   "metadata": {
    "slideshow": {
     "slide_type": "slide"
    }
   },
   "source": [
    "# Quantization and Sampling\n",
    "- Engineering Units: Bits per second\n",
    "- Two parameters needed:\n",
    "        - Quantization (ADC) bits..i.e. 8 bits, 10 bits and etc.\n",
    "        - Sampling frequency….i.e. 8 kHz, 44100 Hz, 96 kHz and etc.\n",
    "- Describes the total number of bits generated in 1 second."
   ]
  },
  {
   "cell_type": "markdown",
   "metadata": {
    "slideshow": {
     "slide_type": "slide"
    }
   },
   "source": [
    "# Quantization and Sampling\n",
    "## Question:\n",
    "- Calculate the number of bits required for a S/H system with\n",
    "    - fs = 48 kHz and\n",
    "    - 16 bit uniform quantization with no compression\n",
    "    \n",
    "## Solution\n",
    "    - 16 x 48000 = 768000 bps or 768 kbps (KiloBitsPerSecond)\n"
   ]
  },
  {
   "cell_type": "markdown",
   "metadata": {
    "slideshow": {
     "slide_type": "slide"
    }
   },
   "source": [
    "# Discrete vs. Continuous time variables"
   ]
  },
  {
   "cell_type": "code",
   "execution_count": 4,
   "metadata": {
    "collapsed": false
   },
   "outputs": [
    {
     "data": {
      "image/png": "[encoded data removed]",
      "text/plain": [
       "<matplotlib.figure.Figure at 0x6aa9bd0>"
      ]
     },
     "metadata": {},
     "output_type": "display_data"
    }
   ],
   "source": [
    "rcParams['figure.figsize']=(12,8);\n",
    "n = arange(5)\n",
    "xtick_labels = ['0','Ts','2Ts','3Ts','4Ts']\n",
    "w = random.random([5])\n",
    "for c in w:\n",
    "    if c<.2:\n",
    "        w = w - min(w) + 0.2 \n",
    "subplot(211)\n",
    "p1 = stem(n, w)\n",
    "xlim([-.5, 4.5])\n",
    "xlabel('samples (n)');\n",
    "subplot(212)\n",
    "p2 = stem(n, w)\n",
    "xticks(n,xtick_labels);\n",
    "xlim([-.5, 4.5]);\n",
    "xlabel('time (seconds)');"
   ]
  },
  {
   "cell_type": "markdown",
   "metadata": {
    "slideshow": {
     "slide_type": "subslide"
    }
   },
   "source": [
    "- As the figures above reveal, we have samples at integer multiples of $\\bf{T_s}$.\n",
    "- The relationship between continuous and discrete time variables is $ t\\ = n\\ T_s $ or $ t\\ = \\frac{n}{f_s} $ where $ n = \\{0,1,..,\\inf \\} $"
   ]
  },
  {
   "cell_type": "markdown",
   "metadata": {
    "slideshow": {
     "slide_type": "slide"
    }
   },
   "source": [
    "# Discrete form of a continuous time function sampled at $ T_s$\n",
    "\n",
    "The continuous time function\n",
    "$$\\ $$\n",
    "$$ x(t) = 2sin(4\\pi t )+ 2,\\ \\ \\ t\\ge 0$$\n",
    "$$\\ $$\n",
    "has discrete time domain form:\n",
    "$$\\ $$\n",
    "$$ x(nT_s) = 2sin(4\\pi nT_s)+ 2,\\ \\ \\    n = \\{0,1,2,...,\\inf\\}  $$\n",
    "$$\\ $$\n",
    "where $ \\bf{T_s} $ is the sampling interval (period) in time. For a discrete time system with a specific $\\bf{T_s}$, we can write \n",
    "$$\\ $$\n",
    "$$ x(n) = 2sin(4\\pi nT_s)+ 2 $$\n",
    "$$\\ $$\n",
    "If the sampling frequency is 50 Hz, we have $ \\bf{f_s} $ = 50 Hz, $ \\bf{T_s} =\\frac{1}{f_s}=\\frac{1}{50}=0.02 $  seconds. Thus, we can write\n",
    "$$\\ $$\n",
    "$$ x(n) = 2sin(0.08\\pi n)+ 2 $$\n",
    "$$\\ $$\n",
    "\n"
   ]
  }
 ],
 "metadata": {
  "celltoolbar": "Slideshow",
  "kernelspec": {
   "display_name": "Python 2",
   "language": "python",
   "name": "python2"
  },
  "language_info": {
   "codemirror_mode": {
    "name": "ipython",
    "version": 2
   },
   "file_extension": ".py",
   "mimetype": "text/x-python",
   "name": "python",
   "nbconvert_exporter": "python",
   "pygments_lexer": "ipython2",
   "version": "2.7.10"
  }
 },
 "nbformat": 4,
 "nbformat_minor": 0
}
