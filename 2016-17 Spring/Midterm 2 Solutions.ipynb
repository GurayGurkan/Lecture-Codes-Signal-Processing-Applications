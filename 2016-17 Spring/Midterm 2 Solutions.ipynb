{
 "cells": [
  {
   "cell_type": "markdown",
   "metadata": {},
   "source": [
    "# EE0404 Signal Processing Applications \n",
    "\n",
    "## 2016-17 Spring \n",
    "\n",
    "## Midterm 2 Solutions"
   ]
  },
  {
   "cell_type": "markdown",
   "metadata": {},
   "source": [
    "# Question 1:\n",
    "\n",
    "A continuous time sinusoidal signal x(t) has 4V peak-to-peak and 2V offset values. When sampled at fs = 100 Hz, x(n) signal has a period of 20 samples.\n"
   ]
  },
  {
   "cell_type": "markdown",
   "metadata": {},
   "source": [
    "## a) The normalized frequency of x(n) is ____ .\n",
    " "
   ]
  },
  {
   "cell_type": "markdown",
   "metadata": {},
   "source": [
    "The normalized frequency is the inverse of period in samples. So, since $T_N$ = 20 samples, $f_N=\\frac{1}{T_N}=0.05$ "
   ]
  },
  {
   "cell_type": "markdown",
   "metadata": {},
   "source": [
    "## b) The real world frequency of x(t) is ____ Hz."
   ]
  },
  {
   "cell_type": "markdown",
   "metadata": {},
   "source": [
    "The normalized frequency is calculated by ratio of real world and sampling frequencies. That is, $$f_N = \\frac{f_{real}}{f_s} \\rightarrow f_{real}=0.05* 100=5  \\text{ Hz}$$"
   ]
  },
  {
   "cell_type": "markdown",
   "metadata": {},
   "source": [
    "## c) Generate x(t) for 3 seconds.\n",
    "Plot x(t) vs. t with proper labels. Y-Limits should range from -1 to 5\n",
    "Save figure as a \"png\" file.\n",
    "Upload the png file."
   ]
  },
  {
   "cell_type": "code",
   "execution_count": 3,
   "metadata": {
    "collapsed": false
   },
   "outputs": [],
   "source": [
    "from numpy import *\n",
    "from matplotlib import *\n",
    "from matplotlib.pyplot import *\n",
    "\n",
    "fs = 100.\n",
    "fr = 5.\n",
    "t = arange(3*fs)/fs\n",
    "x = 2*sin(2*pi*fr*t)+2\n",
    "\n",
    "plot(t,x)\n",
    "ylim([-1,5])\n",
    "show()"
   ]
  },
  {
   "cell_type": "markdown",
   "metadata": {},
   "source": [
    "# Question 2\n",
    "We are given a discrete time signal:\n",
    "$$ x(n) = cos(0.125\\pi n ) + 2sin(0.25 \\pi n) +3 $$"
   ]
  },
  {
   "cell_type": "markdown",
   "metadata": {},
   "source": [
    "## a) If this signal is sampled at fs = 10 KHz, the real frequencies of the sinusoidal components are (high to low) ____ and ____ Hz."
   ]
  },
  {
   "cell_type": "markdown",
   "metadata": {},
   "source": [
    "$$ \\Omega_1 = 0.125 \\pi = 2 \\pi \\frac{f_1}{f_s} \\rightarrow f_1 = 0.125*\\frac{f_s}{2} \\rightarrow f_1 = 625 \\text{ Hz}$$\n",
    "$$ \\Omega_2 = 0.25 \\pi = 2 \\pi \\frac{f_2}{f_s} \\rightarrow f_2 = 0.25*\\frac{f_s}{2} \\rightarrow f_1 = 1250 \\text{ Hz}$$"
   ]
  },
  {
   "cell_type": "markdown",
   "metadata": {},
   "source": [
    "## b) If fs = 10kHz and number of FFT points is 2000, the fft peaks of the sine component are obtained for k= ---- and k= ----."
   ]
  },
  {
   "cell_type": "markdown",
   "metadata": {},
   "source": [
    "For M points of FFT calculation, the basis functions have the angular frequencies:\n",
    "$$ \\Omega_k = 2 \\pi \\frac{k}{M} $$\n",
    "Referring to Euler formula, the cosine and sine functions are:\n",
    "$$ cos(x) = 0.5(e^{jx} + e^{-jx}) $$\n",
    "$$ sin(x) = 0.5(e^{jx} - e^{-jx}) $$\n",
    "\n",
    "then:\n",
    "$$ sin(\\Omega_2) = 0.5(e^{j\\Omega_2} - e^{-j\\Omega_2}) $$\n",
    "$$ \\Omega_2 = 0.25\\pi = 2\\pi \\frac{k_2}{2000} \\rightarrow k_3 = 250 \\text{ and } k_4=-250=2000-250=1750$$\n"
   ]
  },
  {
   "cell_type": "markdown",
   "metadata": {},
   "source": [
    "## c) The magnitude plot of FFT should involve ____ peaks.\n",
    "The sine and cosine has 2x2 = 4 peaks. And the offset value yields a peak at f=0, so we have 5 peaks in total."
   ]
  },
  {
   "cell_type": "markdown",
   "metadata": {},
   "source": [
    "## d) For fs = 10 kHz, calculate 2000 point fft of x(n) and plot the magnitude of this fft vector. The x-axis should be in Hertz and range between -50 to 1500 Hz. [ plotting: 15, axis label and range = 10 points]."
   ]
  },
  {
   "cell_type": "code",
   "execution_count": 4,
   "metadata": {
    "collapsed": false
   },
   "outputs": [],
   "source": [
    "from numpy.fft import *\n",
    "\n",
    "fs = 10E03\n",
    "M = 2000\n",
    "n = arange(M)\n",
    "x = cos(.125*pi*n) + 2*sin(.25*pi*n) + 3\n",
    "fr = arange(M)*fs/M\n",
    "figure(2)\n",
    "plot(fr,abs(fft(x))/M)\n",
    "xlim([-50,1500])\n",
    "xlabel(\"Frequency (Hz)\")\n",
    "show()"
   ]
  },
  {
   "cell_type": "markdown",
   "metadata": {},
   "source": [
    "# Question 3:"
   ]
  },
  {
   "cell_type": "markdown",
   "metadata": {},
   "source": [
    "## a) The difference equation of the system can be written as ____."
   ]
  },
  {
   "cell_type": "markdown",
   "metadata": {},
   "source": [
    "Difference equation is:\n",
    "$$ x(n) + 0.3x(n-5) = y(n)$$"
   ]
  },
  {
   "cell_type": "markdown",
   "metadata": {},
   "source": [
    "## b) By generating 200 elements between 0 and pi, plot the frequency response of this system. x-axis should range from 0 to 1 (omega/pi units). [Plot: 10, units: 5] Upload the resulting png file."
   ]
  },
  {
   "cell_type": "code",
   "execution_count": 5,
   "metadata": {
    "collapsed": false
   },
   "outputs": [
    {
     "data": {
      "text/plain": [
       "<matplotlib.text.Text at 0x7bff330>"
      ]
     },
     "execution_count": 5,
     "metadata": {},
     "output_type": "execute_result"
    }
   ],
   "source": [
    "w = linspace(0,pi,200)\n",
    "H = 1 + 0.3*exp(-1j*5*w)\n",
    "figure(3)\n",
    "plot(w/pi,abs(H))\n",
    "xlabel('$ \\Omega / \\pi $')\n",
    "show()"
   ]
  },
  {
   "cell_type": "markdown",
   "metadata": {},
   "source": [
    "# Question 4:\n",
    "\n",
    "A continuous time signal x(t) has an instantaneous frequency definition as:\n",
    "$$ f(t) = 4000 + 1000cos(8\\pi t) $$\n",
    "\n",
    "Then answer the following questions:"
   ]
  },
  {
   "cell_type": "markdown",
   "metadata": {},
   "source": [
    "## a) The instantaneous phase equation command is phi = ____ .(Equation should involve time variable \"t\")"
   ]
  },
  {
   "cell_type": "markdown",
   "metadata": {},
   "source": [
    "Using instantaneous frequency equation, we must first find the phase equation:\n",
    "$$ \\phi(t) = 2\\pi \\int f(t)dt $$\n",
    "$$ \\phi(t) = 2\\pi (4000t + 1000 \\frac{sin(8\\pi t)}{8\\pi}) $$\n",
    "$$ \\phi(t) = 8000\\pi t + 250 sin(8\\pi t) $$\n",
    "\n",
    "one generate phi from t as:\n"
   ]
  },
  {
   "cell_type": "code",
   "execution_count": 6,
   "metadata": {
    "collapsed": true
   },
   "outputs": [],
   "source": [
    "#  phi = 8000*pi*t+250*sin(8*pi*t)"
   ]
  },
  {
   "cell_type": "markdown",
   "metadata": {},
   "source": [
    "## b) For fs = 8 Khz, generate 1 seconds of this signal and plot the spectrogram. The analysis window length should be 12.5 ms and overlap percentage is % 50. Put proper x and y labels. Upload the resulting png file."
   ]
  },
  {
   "cell_type": "code",
   "execution_count": 7,
   "metadata": {
    "collapsed": false
   },
   "outputs": [],
   "source": [
    "#So this signal x(t) has the equation:\n",
    "\n",
    "# x(t) = sin(8000 pi t + 250 sin(8 pi t)\n",
    "\n",
    "fs = 8000.\n",
    "\n",
    "t = arange(fs)/fs\n",
    "x = sin(8000*pi*t+250*sin(8*pi*t))\n",
    "figure(3)\n",
    "specgram(x,NFFT = 100, noverlap=50,Fs = 8000)\n",
    "xlabel(\"Time (seconds)\")\n",
    "ylabel(\"Frequency (Hz)\")\n",
    "show()\n"
   ]
  },
  {
   "cell_type": "code",
   "execution_count": 8,
   "metadata": {
    "collapsed": false
   },
   "outputs": [
    {
     "data": {
      "text/plain": [
       "100.0"
      ]
     },
     "execution_count": 8,
     "metadata": {},
     "output_type": "execute_result"
    }
   ],
   "source": [
    "12.5*8\n"
   ]
  },
  {
   "cell_type": "code",
   "execution_count": null,
   "metadata": {
    "collapsed": true
   },
   "outputs": [],
   "source": []
  }
 ],
 "metadata": {
  "kernelspec": {
   "display_name": "Python 2",
   "language": "python",
   "name": "python2"
  },
  "language_info": {
   "codemirror_mode": {
    "name": "ipython",
    "version": 2
   },
   "file_extension": ".py",
   "mimetype": "text/x-python",
   "name": "python",
   "nbconvert_exporter": "python",
   "pygments_lexer": "ipython2",
   "version": "2.7.10"
  }
 },
 "nbformat": 4,
 "nbformat_minor": 0
}
